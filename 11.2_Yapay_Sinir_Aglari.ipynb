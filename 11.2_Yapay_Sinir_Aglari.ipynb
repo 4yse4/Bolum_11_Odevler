{
 "cells": [
  {
   "cell_type": "markdown",
   "metadata": {},
   "source": [
    "Soru1-Bir sinir ağında her biri 512 nöronlu üç katmanımız varsa, kaç parametreyi tahmin etmemiz gerekir?"
   ]
  },
  {
   "cell_type": "markdown",
   "metadata": {},
   "source": [
    " toplamda 512x512+512x512+512=524800 parametre tahmin etmemiz gerekir."
   ]
  },
  {
   "cell_type": "markdown",
   "metadata": {},
   "source": [
    "Soru2- XOR un gerçeklenmesi için tek bir katman yeterli midir?"
   ]
  },
  {
   "cell_type": "markdown",
   "metadata": {},
   "source": [
    "and kapısını ve or kapısını tek bir nöronla gerçekleyebilirriz. XOR ise bu iki kapının birleşiminden oluşuyor. girdi ve çıktı hariç tek katmanda gerçeklenebilmesi için o katmanda en az iki nöronun olması gerekir.  \n",
    "iki girdi nöron iki nöronlu bir gizli katman ve bir çıktı nöronu ile gerçekleyebiliriz."
   ]
  },
  {
   "cell_type": "markdown",
   "metadata": {},
   "source": [
    "Soru3-Aşağıdaki ANN'nin çıktı değerini ReLU aktivasyon fonksiyonu kullanarak hesaplayın. (y=?)\n"
   ]
  },
  {
   "cell_type": "markdown",
   "metadata": {},
   "source": [
    "Manuel hesaplama sonucunda y=18 "
   ]
  },
  {
   "cell_type": "code",
   "execution_count": null,
   "metadata": {},
   "outputs": [],
   "source": []
  }
 ],
 "metadata": {
  "kernelspec": {
   "display_name": "Python 3",
   "language": "python",
   "name": "python3"
  },
  "language_info": {
   "codemirror_mode": {
    "name": "ipython",
    "version": 3
   },
   "file_extension": ".py",
   "mimetype": "text/x-python",
   "name": "python",
   "nbconvert_exporter": "python",
   "pygments_lexer": "ipython3",
   "version": "3.7.2"
  }
 },
 "nbformat": 4,
 "nbformat_minor": 2
}
