{
 "cells": [
  {
   "cell_type": "markdown",
   "metadata": {},
   "source": [
    "Soru-1 İki farklı hisse senedi verilerini alıp tahmin yapın."
   ]
  },
  {
   "cell_type": "code",
   "execution_count": 20,
   "metadata": {
    "colab": {
     "base_uri": "https://localhost:8080/",
     "height": 80
    },
    "colab_type": "code",
    "id": "2yahcFF-qibC",
    "outputId": "066b0a2a-4851-4a01-c0d6-0c1a5beaf856"
   },
   "outputs": [
    {
     "name": "stderr",
     "output_type": "stream",
     "text": [
      "Using TensorFlow backend.\n"
     ]
    },
    {
     "data": {
      "text/html": [
       "<p style=\"color: red;\">\n",
       "The default version of TensorFlow in Colab will soon switch to TensorFlow 2.x.<br>\n",
       "We recommend you <a href=\"https://www.tensorflow.org/guide/migrate\" target=\"_blank\">upgrade</a> now \n",
       "or ensure your notebook will continue to use TensorFlow 1.x via the <code>%tensorflow_version 1.x</code> magic:\n",
       "<a href=\"https://colab.research.google.com/notebooks/tensorflow_version.ipynb\" target=\"_blank\">more info</a>.</p>\n"
      ],
      "text/plain": [
       "<IPython.core.display.HTML object>"
      ]
     },
     "metadata": {
      "tags": []
     },
     "output_type": "display_data"
    }
   ],
   "source": [
    "import matplotlib.pyplot as plt\n",
    "import yfinance as yf\n",
    "import pandas as pd\n",
    "import numpy as np\n",
    "import seaborn as sns\n",
    "from datetime import datetime, timedelta, timezone\n",
    "from sklearn.preprocessing import MinMaxScaler\n",
    "from keras import Sequential\n",
    "from keras.layers import Dense, LSTM\n",
    "import warnings\n",
    "warnings.filterwarnings('ignore')"
   ]
  },
  {
   "cell_type": "code",
   "execution_count": 11,
   "metadata": {
    "colab": {
     "base_uri": "https://localhost:8080/",
     "height": 252
    },
    "colab_type": "code",
    "id": "rmbVNlC8rRIW",
    "outputId": "9c01dd0f-b860-4bc9-d250-7fedd075d9ec"
   },
   "outputs": [
    {
     "name": "stdout",
     "output_type": "stream",
     "text": [
      "\r",
      "[*********************100%***********************]  1 of 1 completed\n"
     ]
    },
    {
     "data": {
      "text/html": [
       "<div>\n",
       "<style scoped>\n",
       "    .dataframe tbody tr th:only-of-type {\n",
       "        vertical-align: middle;\n",
       "    }\n",
       "\n",
       "    .dataframe tbody tr th {\n",
       "        vertical-align: top;\n",
       "    }\n",
       "\n",
       "    .dataframe thead th {\n",
       "        text-align: right;\n",
       "    }\n",
       "</style>\n",
       "<table border=\"1\" class=\"dataframe\">\n",
       "  <thead>\n",
       "    <tr style=\"text-align: right;\">\n",
       "      <th></th>\n",
       "      <th>Open</th>\n",
       "      <th>High</th>\n",
       "      <th>Low</th>\n",
       "      <th>Close</th>\n",
       "      <th>Adj Close</th>\n",
       "      <th>Volume</th>\n",
       "      <th>Average</th>\n",
       "    </tr>\n",
       "    <tr>\n",
       "      <th>Date</th>\n",
       "      <th></th>\n",
       "      <th></th>\n",
       "      <th></th>\n",
       "      <th></th>\n",
       "      <th></th>\n",
       "      <th></th>\n",
       "      <th></th>\n",
       "    </tr>\n",
       "  </thead>\n",
       "  <tbody>\n",
       "    <tr>\n",
       "      <th>2016-01-04</th>\n",
       "      <td>135.600006</td>\n",
       "      <td>135.970001</td>\n",
       "      <td>134.240005</td>\n",
       "      <td>135.949997</td>\n",
       "      <td>114.000061</td>\n",
       "      <td>5229400</td>\n",
       "      <td>135.105003</td>\n",
       "    </tr>\n",
       "    <tr>\n",
       "      <th>2016-01-05</th>\n",
       "      <td>136.759995</td>\n",
       "      <td>136.889999</td>\n",
       "      <td>134.850006</td>\n",
       "      <td>135.850006</td>\n",
       "      <td>113.916214</td>\n",
       "      <td>3924800</td>\n",
       "      <td>135.870003</td>\n",
       "    </tr>\n",
       "    <tr>\n",
       "      <th>2016-01-06</th>\n",
       "      <td>134.380005</td>\n",
       "      <td>135.580002</td>\n",
       "      <td>133.619995</td>\n",
       "      <td>135.169998</td>\n",
       "      <td>113.345993</td>\n",
       "      <td>4310900</td>\n",
       "      <td>134.599998</td>\n",
       "    </tr>\n",
       "    <tr>\n",
       "      <th>2016-01-07</th>\n",
       "      <td>133.699997</td>\n",
       "      <td>135.020004</td>\n",
       "      <td>132.429993</td>\n",
       "      <td>132.860001</td>\n",
       "      <td>111.408966</td>\n",
       "      <td>7025800</td>\n",
       "      <td>133.724998</td>\n",
       "    </tr>\n",
       "    <tr>\n",
       "      <th>2016-01-08</th>\n",
       "      <td>133.179993</td>\n",
       "      <td>133.820007</td>\n",
       "      <td>131.320007</td>\n",
       "      <td>131.630005</td>\n",
       "      <td>110.377556</td>\n",
       "      <td>4762700</td>\n",
       "      <td>132.570007</td>\n",
       "    </tr>\n",
       "  </tbody>\n",
       "</table>\n",
       "</div>"
      ],
      "text/plain": [
       "                  Open        High         Low  ...   Adj Close   Volume     Average\n",
       "Date                                            ...                                 \n",
       "2016-01-04  135.600006  135.970001  134.240005  ...  114.000061  5229400  135.105003\n",
       "2016-01-05  136.759995  136.889999  134.850006  ...  113.916214  3924800  135.870003\n",
       "2016-01-06  134.380005  135.580002  133.619995  ...  113.345993  4310900  134.599998\n",
       "2016-01-07  133.699997  135.020004  132.429993  ...  111.408966  7025800  133.724998\n",
       "2016-01-08  133.179993  133.820007  131.320007  ...  110.377556  4762700  132.570007\n",
       "\n",
       "[5 rows x 7 columns]"
      ]
     },
     "execution_count": 11,
     "metadata": {
      "tags": []
     },
     "output_type": "execute_result"
    }
   ],
   "source": [
    "#IBM verilerinin alınması\n",
    "hisse1 = ['IBM']\n",
    "\n",
    "hisse_fiyatlari1 = yf.download(hisse1,start = '2016-01-01',end = '2019-09-01',\n",
    "                              interval='1d', prepost=True)\n",
    "hisse_fiyatlari1[\"Average\"] = (hisse_fiyatlari1[\"High\"] + hisse_fiyatlari1[\"Low\"])/2\n",
    "hisse_fiyatlari1.head()"
   ]
  },
  {
   "cell_type": "code",
   "execution_count": 9,
   "metadata": {
    "colab": {
     "base_uri": "https://localhost:8080/",
     "height": 252
    },
    "colab_type": "code",
    "id": "Od8LS6PtwZmy",
    "outputId": "5172fa7f-8fd7-4252-f537-3dcd81168a5d"
   },
   "outputs": [
    {
     "name": "stdout",
     "output_type": "stream",
     "text": [
      "\r",
      "[*********************100%***********************]  1 of 1 completed\n"
     ]
    },
    {
     "data": {
      "text/html": [
       "<div>\n",
       "<style scoped>\n",
       "    .dataframe tbody tr th:only-of-type {\n",
       "        vertical-align: middle;\n",
       "    }\n",
       "\n",
       "    .dataframe tbody tr th {\n",
       "        vertical-align: top;\n",
       "    }\n",
       "\n",
       "    .dataframe thead th {\n",
       "        text-align: right;\n",
       "    }\n",
       "</style>\n",
       "<table border=\"1\" class=\"dataframe\">\n",
       "  <thead>\n",
       "    <tr style=\"text-align: right;\">\n",
       "      <th></th>\n",
       "      <th>Open</th>\n",
       "      <th>High</th>\n",
       "      <th>Low</th>\n",
       "      <th>Close</th>\n",
       "      <th>Adj Close</th>\n",
       "      <th>Volume</th>\n",
       "      <th>Average</th>\n",
       "    </tr>\n",
       "    <tr>\n",
       "      <th>Date</th>\n",
       "      <th></th>\n",
       "      <th></th>\n",
       "      <th></th>\n",
       "      <th></th>\n",
       "      <th></th>\n",
       "      <th></th>\n",
       "      <th></th>\n",
       "    </tr>\n",
       "  </thead>\n",
       "  <tbody>\n",
       "    <tr>\n",
       "      <th>2016-01-04</th>\n",
       "      <td>33.880001</td>\n",
       "      <td>34.009998</td>\n",
       "      <td>33.459999</td>\n",
       "      <td>33.990002</td>\n",
       "      <td>30.453503</td>\n",
       "      <td>27882200</td>\n",
       "      <td>33.734999</td>\n",
       "    </tr>\n",
       "    <tr>\n",
       "      <th>2016-01-05</th>\n",
       "      <td>33.959999</td>\n",
       "      <td>34.000000</td>\n",
       "      <td>33.529999</td>\n",
       "      <td>33.830002</td>\n",
       "      <td>30.310141</td>\n",
       "      <td>16709500</td>\n",
       "      <td>33.764999</td>\n",
       "    </tr>\n",
       "    <tr>\n",
       "      <th>2016-01-06</th>\n",
       "      <td>33.250000</td>\n",
       "      <td>33.520000</td>\n",
       "      <td>32.799999</td>\n",
       "      <td>33.080002</td>\n",
       "      <td>29.638180</td>\n",
       "      <td>25491300</td>\n",
       "      <td>33.160000</td>\n",
       "    </tr>\n",
       "    <tr>\n",
       "      <th>2016-01-07</th>\n",
       "      <td>32.279999</td>\n",
       "      <td>33.009998</td>\n",
       "      <td>31.840000</td>\n",
       "      <td>31.840000</td>\n",
       "      <td>28.527191</td>\n",
       "      <td>37680500</td>\n",
       "      <td>32.424999</td>\n",
       "    </tr>\n",
       "    <tr>\n",
       "      <th>2016-01-08</th>\n",
       "      <td>32.090000</td>\n",
       "      <td>32.220001</td>\n",
       "      <td>31.430000</td>\n",
       "      <td>31.510000</td>\n",
       "      <td>28.231529</td>\n",
       "      <td>29953800</td>\n",
       "      <td>31.825001</td>\n",
       "    </tr>\n",
       "  </tbody>\n",
       "</table>\n",
       "</div>"
      ],
      "text/plain": [
       "                 Open       High        Low  ...  Adj Close    Volume    Average\n",
       "Date                                         ...                                \n",
       "2016-01-04  33.880001  34.009998  33.459999  ...  30.453503  27882200  33.734999\n",
       "2016-01-05  33.959999  34.000000  33.529999  ...  30.310141  16709500  33.764999\n",
       "2016-01-06  33.250000  33.520000  32.799999  ...  29.638180  25491300  33.160000\n",
       "2016-01-07  32.279999  33.009998  31.840000  ...  28.527191  37680500  32.424999\n",
       "2016-01-08  32.090000  32.220001  31.430000  ...  28.231529  29953800  31.825001\n",
       "\n",
       "[5 rows x 7 columns]"
      ]
     },
     "execution_count": 9,
     "metadata": {
      "tags": []
     },
     "output_type": "execute_result"
    }
   ],
   "source": [
    "#Intel verilerinin alınması.\n",
    "hisse2 = ['INTC']\n",
    "\n",
    "hisse_fiyatlari2 = yf.download(hisse2,start = '2016-01-01',end = '2019-09-01',\n",
    "                              interval='1d', prepost=True)\n",
    "hisse_fiyatlari2[\"Average\"] = (hisse_fiyatlari2[\"High\"] + hisse_fiyatlari2[\"Low\"])/2\n",
    "hisse_fiyatlari2.head()"
   ]
  },
  {
   "cell_type": "code",
   "execution_count": 0,
   "metadata": {
    "colab": {},
    "colab_type": "code",
    "id": "p0cpFBoXxPNA"
   },
   "outputs": [],
   "source": [
    "#her iki verinin işlem hacmi ve ortalama sürunlarını standardize ediyoruz.\n",
    "girdi_verileri1 = hisse_fiyatlari1.iloc[:,[5,6]].values\n",
    "sc= MinMaxScaler(feature_range=(0,1))\n",
    "girdi_verileri1[:,0:2] = sc.fit_transform(girdi_verileri1[:,:])"
   ]
  },
  {
   "cell_type": "code",
   "execution_count": 0,
   "metadata": {
    "colab": {},
    "colab_type": "code",
    "id": "EHsx-ae0xfpx"
   },
   "outputs": [],
   "source": [
    "girdi_verileri2 = hisse_fiyatlari2.iloc[:,[5,6]].values\n",
    "sc= MinMaxScaler(feature_range=(0,1))\n",
    "girdi_verileri2[:,0:2] = sc.fit_transform(girdi_verileri2[:,:])"
   ]
  },
  {
   "cell_type": "code",
   "execution_count": 0,
   "metadata": {
    "colab": {},
    "colab_type": "code",
    "id": "44HU9ulAxnf4"
   },
   "outputs": [],
   "source": [
    "#50 günlük fiyat ve işlem hacmi verileriyle bugünün fiyatını tahmin edebilmek için verileri hazırlıyoruz.\n",
    "lookback= 50\n",
    "\n",
    "test_size=int(.3 * len(hisse_fiyatlari1))\n",
    "X1=[]\n",
    "y1=[]\n",
    "for i in range(len(hisse_fiyatlari1)-lookback-1):\n",
    "    t=[]\n",
    "    for j in range(0,lookback):\n",
    "        \n",
    "        t.append(girdi_verileri1[[(i+j)], :])\n",
    "    X1.append(t)\n",
    "    y1.append(girdi_verileri1[i+ lookback,1])"
   ]
  },
  {
   "cell_type": "code",
   "execution_count": 0,
   "metadata": {
    "colab": {},
    "colab_type": "code",
    "id": "deo8WJXbyMzI"
   },
   "outputs": [],
   "source": [
    "lookback= 50\n",
    "\n",
    "test_size=int(.3 * len(hisse_fiyatlari2))\n",
    "X2=[]\n",
    "y2=[]\n",
    "for i in range(len(hisse_fiyatlari2)-lookback-1):\n",
    "    t=[]\n",
    "    for j in range(0,lookback):\n",
    "        \n",
    "        t.append(girdi_verileri2[[(i+j)], :])\n",
    "    X2.append(t)\n",
    "    y2.append(girdi_verileri2[i+ lookback,1])"
   ]
  },
  {
   "cell_type": "code",
   "execution_count": 18,
   "metadata": {
    "colab": {
     "base_uri": "https://localhost:8080/",
     "height": 51
    },
    "colab_type": "code",
    "id": "dtmlLgAerSJ1",
    "outputId": "d25633dc-54f9-4352-f4eb-218dbde0cf1d"
   },
   "outputs": [
    {
     "name": "stdout",
     "output_type": "stream",
     "text": [
      "(871, 50, 2)\n",
      "(326, 50, 2)\n"
     ]
    }
   ],
   "source": [
    "#LSTM'uygun boyutlu hale getiriyoruz.\n",
    "X1, y1= np.array(X1), np.array(y1)\n",
    "X1_test = X1[:test_size+lookback]\n",
    "X1 = X1.reshape(X1.shape[0],lookback, 2)\n",
    "X1_test = X1_test.reshape(X1_test.shape[0],lookback, 2)\n",
    "print(X1.shape)\n",
    "print(X1_test.shape)"
   ]
  },
  {
   "cell_type": "code",
   "execution_count": 19,
   "metadata": {
    "colab": {
     "base_uri": "https://localhost:8080/",
     "height": 51
    },
    "colab_type": "code",
    "id": "_hXA4xe8zAzN",
    "outputId": "dfef47d0-37d4-4e7f-c22c-6854f48d435f"
   },
   "outputs": [
    {
     "name": "stdout",
     "output_type": "stream",
     "text": [
      "(871, 50, 2)\n",
      "(326, 50, 2)\n"
     ]
    }
   ],
   "source": [
    "X2, y2= np.array(X2), np.array(y2)\n",
    "X2_test = X2[:test_size+lookback]\n",
    "X2 = X2.reshape(X2.shape[0],lookback, 2)\n",
    "X2_test = X2_test.reshape(X2_test.shape[0],lookback, 2)\n",
    "print(X2.shape)\n",
    "print(X2_test.shape)"
   ]
  },
  {
   "cell_type": "code",
   "execution_count": 21,
   "metadata": {
    "colab": {
     "base_uri": "https://localhost:8080/",
     "height": 411
    },
    "colab_type": "code",
    "id": "TGKcNUBEzOmh",
    "outputId": "b38f9b02-4324-4d65-ed1f-99057c0dd1f8"
   },
   "outputs": [
    {
     "name": "stdout",
     "output_type": "stream",
     "text": [
      "WARNING:tensorflow:From /usr/local/lib/python3.6/dist-packages/keras/backend/tensorflow_backend.py:66: The name tf.get_default_graph is deprecated. Please use tf.compat.v1.get_default_graph instead.\n",
      "\n",
      "WARNING:tensorflow:From /usr/local/lib/python3.6/dist-packages/keras/backend/tensorflow_backend.py:541: The name tf.placeholder is deprecated. Please use tf.compat.v1.placeholder instead.\n",
      "\n",
      "WARNING:tensorflow:From /usr/local/lib/python3.6/dist-packages/keras/backend/tensorflow_backend.py:4432: The name tf.random_uniform is deprecated. Please use tf.random.uniform instead.\n",
      "\n",
      "Model: \"sequential_1\"\n",
      "_________________________________________________________________\n",
      "Layer (type)                 Output Shape              Param #   \n",
      "=================================================================\n",
      "lstm_1 (LSTM)                (None, 50, 30)            3960      \n",
      "_________________________________________________________________\n",
      "lstm_2 (LSTM)                (None, 50, 30)            7320      \n",
      "_________________________________________________________________\n",
      "lstm_3 (LSTM)                (None, 30)                7320      \n",
      "_________________________________________________________________\n",
      "dense_1 (Dense)              (None, 1)                 31        \n",
      "=================================================================\n",
      "Total params: 18,631\n",
      "Trainable params: 18,631\n",
      "Non-trainable params: 0\n",
      "_________________________________________________________________\n"
     ]
    }
   ],
   "source": [
    "#her iki veri için iki ayrı model kurulumu yapıyoruz.\n",
    "model1 = Sequential()\n",
    "model1.add(LSTM(units=30, return_sequences= True, input_shape=(X1.shape[1],2)))\n",
    "model1.add(LSTM(units=30, return_sequences=True))\n",
    "model1.add(LSTM(units=30))\n",
    "model1.add(Dense(units=1))\n",
    "model1.summary()"
   ]
  },
  {
   "cell_type": "code",
   "execution_count": 22,
   "metadata": {
    "colab": {
     "base_uri": "https://localhost:8080/",
     "height": 289
    },
    "colab_type": "code",
    "id": "ByKQOJvgzml7",
    "outputId": "facb6105-9c47-4c4f-a725-87d1f26679b0"
   },
   "outputs": [
    {
     "name": "stdout",
     "output_type": "stream",
     "text": [
      "Model: \"sequential_2\"\n",
      "_________________________________________________________________\n",
      "Layer (type)                 Output Shape              Param #   \n",
      "=================================================================\n",
      "lstm_4 (LSTM)                (None, 50, 30)            3960      \n",
      "_________________________________________________________________\n",
      "lstm_5 (LSTM)                (None, 50, 30)            7320      \n",
      "_________________________________________________________________\n",
      "lstm_6 (LSTM)                (None, 30)                7320      \n",
      "_________________________________________________________________\n",
      "dense_2 (Dense)              (None, 1)                 31        \n",
      "=================================================================\n",
      "Total params: 18,631\n",
      "Trainable params: 18,631\n",
      "Non-trainable params: 0\n",
      "_________________________________________________________________\n"
     ]
    }
   ],
   "source": [
    "model2 = Sequential()\n",
    "model2.add(LSTM(units=30, return_sequences= True, input_shape=(X2.shape[1],2)))\n",
    "model2.add(LSTM(units=30, return_sequences=True))\n",
    "model2.add(LSTM(units=30))\n",
    "model2.add(Dense(units=1))\n",
    "model2.summary()"
   ]
  },
  {
   "cell_type": "code",
   "execution_count": 23,
   "metadata": {
    "colab": {
     "base_uri": "https://localhost:8080/",
     "height": 71
    },
    "colab_type": "code",
    "id": "6alJ0LIgzw_L",
    "outputId": "3df0f5d3-7d37-4f33-f62c-6e57df6b175f"
   },
   "outputs": [
    {
     "name": "stdout",
     "output_type": "stream",
     "text": [
      "WARNING:tensorflow:From /usr/local/lib/python3.6/dist-packages/keras/optimizers.py:793: The name tf.train.Optimizer is deprecated. Please use tf.compat.v1.train.Optimizer instead.\n",
      "\n"
     ]
    }
   ],
   "source": [
    "#iki modeli de derliyoruz.\n",
    "model1.compile(optimizer='adam', loss='mean_squared_error')\n",
    "model2.compile(optimizer='adam', loss='mean_squared_error')"
   ]
  },
  {
   "cell_type": "code",
   "execution_count": 24,
   "metadata": {
    "colab": {
     "base_uri": "https://localhost:8080/",
     "height": 377
    },
    "colab_type": "code",
    "id": "r3QhcPjgz4kF",
    "outputId": "34d044c3-4f8b-423c-c642-a268daf62ed7"
   },
   "outputs": [
    {
     "name": "stdout",
     "output_type": "stream",
     "text": [
      "WARNING:tensorflow:From /usr/local/lib/python3.6/dist-packages/tensorflow_core/python/ops/math_grad.py:1424: where (from tensorflow.python.ops.array_ops) is deprecated and will be removed in a future version.\n",
      "Instructions for updating:\n",
      "Use tf.where in 2.0, which has the same broadcast rule as np.where\n",
      "WARNING:tensorflow:From /usr/local/lib/python3.6/dist-packages/keras/backend/tensorflow_backend.py:1033: The name tf.assign_add is deprecated. Please use tf.compat.v1.assign_add instead.\n",
      "\n",
      "WARNING:tensorflow:From /usr/local/lib/python3.6/dist-packages/keras/backend/tensorflow_backend.py:1020: The name tf.assign is deprecated. Please use tf.compat.v1.assign instead.\n",
      "\n",
      "WARNING:tensorflow:From /usr/local/lib/python3.6/dist-packages/keras/backend/tensorflow_backend.py:3005: The name tf.Session is deprecated. Please use tf.compat.v1.Session instead.\n",
      "\n",
      "WARNING:tensorflow:From /usr/local/lib/python3.6/dist-packages/keras/backend/tensorflow_backend.py:190: The name tf.get_default_session is deprecated. Please use tf.compat.v1.get_default_session instead.\n",
      "\n",
      "WARNING:tensorflow:From /usr/local/lib/python3.6/dist-packages/keras/backend/tensorflow_backend.py:197: The name tf.ConfigProto is deprecated. Please use tf.compat.v1.ConfigProto instead.\n",
      "\n",
      "WARNING:tensorflow:From /usr/local/lib/python3.6/dist-packages/keras/backend/tensorflow_backend.py:207: The name tf.global_variables is deprecated. Please use tf.compat.v1.global_variables instead.\n",
      "\n",
      "WARNING:tensorflow:From /usr/local/lib/python3.6/dist-packages/keras/backend/tensorflow_backend.py:216: The name tf.is_variable_initialized is deprecated. Please use tf.compat.v1.is_variable_initialized instead.\n",
      "\n",
      "WARNING:tensorflow:From /usr/local/lib/python3.6/dist-packages/keras/backend/tensorflow_backend.py:223: The name tf.variables_initializer is deprecated. Please use tf.compat.v1.variables_initializer instead.\n",
      "\n"
     ]
    },
    {
     "data": {
      "text/plain": [
       "<keras.callbacks.History at 0x7f9d4a268588>"
      ]
     },
     "execution_count": 24,
     "metadata": {
      "tags": []
     },
     "output_type": "execute_result"
    }
   ],
   "source": [
    "model1.fit(X1, y1, epochs=200, batch_size=32, verbose=0)\n",
    "model2.fit(X2, y2, epochs=200, batch_size=32, verbose=0)"
   ]
  },
  {
   "cell_type": "code",
   "execution_count": 0,
   "metadata": {
    "colab": {},
    "colab_type": "code",
    "id": "TNuGDHl10TGT"
   },
   "outputs": [],
   "source": [
    "#iki model ile ayrı ayrı tahmin yapıp sonuçların gerçek değerler ile grafiklerini çizdiriyoruz.\n",
    "tahmin_değerleri1= model1.predict(X1_test)\n",
    "tahmin_değerleri2= model2.predict(X2_test)"
   ]
  },
  {
   "cell_type": "code",
   "execution_count": 27,
   "metadata": {
    "colab": {
     "base_uri": "https://localhost:8080/",
     "height": 337
    },
    "colab_type": "code",
    "id": "2qxU4n9m0bSW",
    "outputId": "91923456-10d4-4741-9a5e-f738a4d78d91",
    "scrolled": true
   },
   "outputs": [
    {
     "data": {
      "image/png": "[encoded data removed]",
      "text/plain": [
       "<Figure size 432x288 with 1 Axes>"
      ]
     },
     "metadata": {
      "tags": []
     },
     "output_type": "display_data"
    },
    {
     "data": {
      "image/png": "[encoded data removed]",
      "text/plain": [
       "<Figure size 432x288 with 1 Axes>"
      ]
     },
     "metadata": {
      "tags": []
     },
     "output_type": "display_data"
    }
   ],
   "source": [
    "plt.subplot(2,1,1)\n",
    "plt.plot(tahmin_değerleri1, color= 'red')\n",
    "plt.plot(girdi_verileri1[lookback:test_size+(2*lookback),1], color='green')\n",
    "plt.title(\"IBM Hisse Senedi Fiyatları ve Tahmin\")\n",
    "plt.xlabel(\"Zaman\")\n",
    "plt.ylabel(\"Fiyat\")\n",
    "plt.show()\n",
    "plt.subplot(2,1,2)\n",
    "plt.plot(tahmin_değerleri2, color= 'red')\n",
    "plt.plot(girdi_verileri2[lookback:test_size+(2*lookback),1], color='green')\n",
    "plt.title(\"INTEL Hisse Senedi Fiyatları ve Tahmin\")\n",
    "plt.xlabel(\"Zaman\")\n",
    "plt.ylabel(\"Fiyat\")\n",
    "plt.show()"
   ]
  },
  {
   "cell_type": "markdown",
   "metadata": {},
   "source": [
    "Soru2-RNN'de ileri besleme ve geri yayılım yapılırken çarpılan ağırlık matrislerinin 1'den büyük veya 1'den küçük olması durumuna göre patlayan ve azalan gradient sorunu vardır. LSTM'de bu sorunların üstesinden gelinmiştir."
   ]
  },
  {
   "cell_type": "markdown",
   "metadata": {},
   "source": [
    "Soru3-LSTM'de yer alan epoch ve batch size parametrelerinin ne olduğunu araştırın.  \n",
    "EPOCH: modelin eğitim sürecindeki aşamalrın her birine verilen ad. \n",
    "BATCH SIZE:öğrenme sürecinde her bir aşamada verinin ne kadarının işleneceği belirtir.\n",
    "\n",
    "Bu iki parametreile oynanarak daha başarılı sonuçlar elde edebiliriz. Epoch sayısını artırmak belli bir yere kadar başarıyı artırır ancak bu da eğitim maliyetini de artıracaktır. Durulması gereken noktaya iyi karar verilmelidir.  \n",
    "Aynı şekilde batch size karar verirken de dikkatli olmalıyız.Seçtiğimiz boyutun donanıma uygun olması, algortimaya uygun olması, eğitilecek verinin miktarı vb gibi unsurlara bağlıdır."
   ]
  },
  {
   "cell_type": "code",
   "execution_count": null,
   "metadata": {},
   "outputs": [],
   "source": []
  }
 ],
 "metadata": {
  "colab": {
   "collapsed_sections": [],
   "name": "RNN-yfinance.ipynb",
   "provenance": []
  },
  "kernelspec": {
   "display_name": "Python 3",
   "language": "python",
   "name": "python3"
  },
  "language_info": {
   "codemirror_mode": {
    "name": "ipython",
    "version": 3
   },
   "file_extension": ".py",
   "mimetype": "text/x-python",
   "name": "python",
   "nbconvert_exporter": "python",
   "pygments_lexer": "ipython3",
   "version": "3.7.2"
  }
 },
 "nbformat": 4,
 "nbformat_minor": 1
}
